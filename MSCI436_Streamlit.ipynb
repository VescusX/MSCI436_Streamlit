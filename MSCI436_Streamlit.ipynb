{
  "cells": [
    {
      "cell_type": "markdown",
      "metadata": {
        "id": "hDpgfrCBFYDx"
      },
      "source": [
        "# Import Packages"
      ]
    },
    {
      "cell_type": "code",
      "execution_count": 1,
      "metadata": {
        "colab": {
          "base_uri": "https://localhost:8080/"
        },
        "id": "semOIkyb4czH",
        "outputId": "c2f33657-1e2d-4cf2-e099-15c5b556a172"
      },
      "outputs": [
        {
          "output_type": "stream",
          "name": "stdout",
          "text": [
            "\u001b[2K     \u001b[90m━━━━━━━━━━━━━━━━━━━━━━━━━━━━━━━━━━━━━━━━\u001b[0m \u001b[32m8.9/8.9 MB\u001b[0m \u001b[31m57.7 MB/s\u001b[0m eta \u001b[36m0:00:00\u001b[0m\n",
            "\u001b[2K     \u001b[90m━━━━━━━━━━━━━━━━━━━━━━━━━━━━━━━━━━━━━━\u001b[0m \u001b[32m164.8/164.8 kB\u001b[0m \u001b[31m19.3 MB/s\u001b[0m eta \u001b[36m0:00:00\u001b[0m\n",
            "\u001b[?25h  Preparing metadata (setup.py) ... \u001b[?25l\u001b[?25hdone\n",
            "\u001b[2K     \u001b[90m━━━━━━━━━━━━━━━━━━━━━━━━━━━━━━━━━━━━━━\u001b[0m \u001b[32m188.5/188.5 kB\u001b[0m \u001b[31m19.8 MB/s\u001b[0m eta \u001b[36m0:00:00\u001b[0m\n",
            "\u001b[2K     \u001b[90m━━━━━━━━━━━━━━━━━━━━━━━━━━━━━━━━━━━━━━━━\u001b[0m \u001b[32m4.8/4.8 MB\u001b[0m \u001b[31m84.6 MB/s\u001b[0m eta \u001b[36m0:00:00\u001b[0m\n",
            "\u001b[2K     \u001b[90m━━━━━━━━━━━━━━━━━━━━━━━━━━━━━━━━━━━━━━━━\u001b[0m \u001b[32m82.1/82.1 kB\u001b[0m \u001b[31m9.2 MB/s\u001b[0m eta \u001b[36m0:00:00\u001b[0m\n",
            "\u001b[2K     \u001b[90m━━━━━━━━━━━━━━━━━━━━━━━━━━━━━━━━━━━━━━━━\u001b[0m \u001b[32m62.7/62.7 kB\u001b[0m \u001b[31m7.1 MB/s\u001b[0m eta \u001b[36m0:00:00\u001b[0m\n",
            "\u001b[2K     \u001b[90m━━━━━━━━━━━━━━━━━━━━━━━━━━━━━━━━━━━━━━\u001b[0m \u001b[32m341.8/341.8 kB\u001b[0m \u001b[31m28.7 MB/s\u001b[0m eta \u001b[36m0:00:00\u001b[0m\n",
            "\u001b[?25h  Building wheel for validators (setup.py) ... \u001b[?25l\u001b[?25hdone\n",
            "\u001b[K\u001b[?25h\u001b[37;40mnpm\u001b[0m \u001b[0m\u001b[30;43mWARN\u001b[0m \u001b[0m\u001b[35msaveError\u001b[0m ENOENT: no such file or directory, open '/content/package.json'\n",
            "\u001b[0m\u001b[37;40mnpm\u001b[0m \u001b[0m\u001b[34;40mnotice\u001b[0m\u001b[35m\u001b[0m created a lockfile as package-lock.json. You should commit this file.\n",
            "\u001b[0m\u001b[37;40mnpm\u001b[0m \u001b[0m\u001b[30;43mWARN\u001b[0m \u001b[0m\u001b[35menoent\u001b[0m ENOENT: no such file or directory, open '/content/package.json'\n",
            "\u001b[0m\u001b[37;40mnpm\u001b[0m \u001b[0m\u001b[30;43mWARN\u001b[0m\u001b[35m\u001b[0m content No description\n",
            "\u001b[0m\u001b[37;40mnpm\u001b[0m \u001b[0m\u001b[30;43mWARN\u001b[0m\u001b[35m\u001b[0m content No repository field.\n",
            "\u001b[0m\u001b[37;40mnpm\u001b[0m \u001b[0m\u001b[30;43mWARN\u001b[0m\u001b[35m\u001b[0m content No README data\n",
            "\u001b[0m\u001b[37;40mnpm\u001b[0m \u001b[0m\u001b[30;43mWARN\u001b[0m\u001b[35m\u001b[0m content No license field.\n",
            "\u001b[0m\n",
            "+ localtunnel@2.0.2\n",
            "added 22 packages from 22 contributors and audited 22 packages in 2.268s\n",
            "\n",
            "3 packages are looking for funding\n",
            "  run `npm fund` for details\n",
            "\n",
            "found \u001b[92m0\u001b[0m vulnerabilities\n",
            "\n",
            "\u001b[K\u001b[?25h"
          ]
        }
      ],
      "source": [
        "!pip install -q streamlit\n",
        "!npm install localtunnel"
      ]
    },
    {
      "cell_type": "code",
      "execution_count": 2,
      "metadata": {
        "id": "ywE63x8pFTab"
      },
      "outputs": [],
      "source": [
        "import numpy as np\n",
        "import pandas as pd\n",
        "import pickle\n",
        "from sklearn.linear_model import LinearRegression\n",
        "from sklearn.metrics import mean_squared_error"
      ]
    },
    {
      "cell_type": "markdown",
      "metadata": {
        "id": "d2foBeQNFawN"
      },
      "source": [
        "# Load Data"
      ]
    },
    {
      "cell_type": "code",
      "execution_count": 3,
      "metadata": {
        "id": "uydYBrtjFcyh"
      },
      "outputs": [],
      "source": [
        "raw_data_train = pd.read_csv('https://raw.githubusercontent.com/jmpark0808/pl_mnist_example/main/train_hp_msci436.csv')"
      ]
    },
    {
      "cell_type": "markdown",
      "source": [
        "Filter data for the features we're looking and one-hot encode the categorical variables\n"
      ],
      "metadata": {
        "id": "LmkIWN3L_tXu"
      }
    },
    {
      "cell_type": "code",
      "execution_count": 4,
      "metadata": {
        "id": "ZavqMfxD_BXt"
      },
      "outputs": [],
      "source": [
        "mid_df = raw_data_train[['SalePrice','YrSold','LotArea','MSSubClass','Neighborhood','YearBuilt','FullBath','HalfBath','BedroomAbvGr','GarageCars','KitchenQual','BldgType','CentralAir','GrLivArea']]\n",
        "df = pd.get_dummies(data=mid_df, columns=['MSSubClass','Neighborhood','KitchenQual','BldgType','CentralAir'])"
      ]
    },
    {
      "cell_type": "markdown",
      "metadata": {
        "id": "RzRNxY7Mau_H"
      },
      "source": [
        "# Fit a Linear Regression Model"
      ]
    },
    {
      "cell_type": "code",
      "execution_count": 5,
      "metadata": {
        "id": "el3Uzq1Oa3ZZ"
      },
      "outputs": [],
      "source": [
        "X = df.values[:, 1:]\n",
        "y = df.values[:, 0]"
      ]
    },
    {
      "cell_type": "code",
      "execution_count": 6,
      "metadata": {
        "colab": {
          "base_uri": "https://localhost:8080/"
        },
        "id": "8cK8G7vZJ4ac",
        "outputId": "c15e1723-af14-4fca-883c-6027b5e718f6"
      },
      "outputs": [
        {
          "output_type": "execute_result",
          "data": {
            "text/plain": [
              "array([-3.17391218e+02,  4.97947931e-01,  5.08712532e+02,  5.96567839e+03,\n",
              "        4.81692150e+03, -6.81445001e+03,  1.14098381e+04,  6.85345711e+01,\n",
              "        9.05340821e+03,  7.44622227e+03,  9.98884026e+03,  9.01309355e+03,\n",
              "       -1.79271423e+03, -1.18877199e+04,  4.16711899e+03,  9.33659203e+03,\n",
              "        5.04941554e+03,  7.67461687e+03, -5.84608573e+03, -9.85246884e+03,\n",
              "       -3.88192165e+04, -5.39107238e+03,  1.18599699e+04, -3.61099596e+03,\n",
              "        1.02765809e+04,  1.17406112e+04, -8.42460507e+03, -5.39003527e+03,\n",
              "       -1.06750276e+04,  1.77493108e+04, -2.72867383e+04, -1.88187171e+04,\n",
              "       -2.20302557e+04, -7.54087362e+03, -1.81364916e+04, -1.79412226e+04,\n",
              "        1.01797664e+04, -1.89974394e+04,  5.20396241e+04,  4.60727646e+04,\n",
              "       -2.55453939e+04, -2.08028751e+04, -2.09532228e+04, -1.43873579e+04,\n",
              "        1.00388107e+04,  6.02318045e+04, -6.32752532e+02,  2.28447310e+04,\n",
              "        4.33438489e+04, -2.13924670e+04, -5.93211586e+03, -1.60192660e+04,\n",
              "        1.30807896e+04,  3.26864980e+02, -5.84608573e+03, -8.09275899e+03,\n",
              "        5.31190186e+02, -6.63216009e+03,  6.63216009e+03])"
            ]
          },
          "metadata": {},
          "execution_count": 6
        }
      ],
      "source": [
        "reg = LinearRegression().fit(X, y)\n",
        "reg.coef_\n",
        "\n"
      ]
    },
    {
      "cell_type": "markdown",
      "source": [
        "Calculate the Error"
      ],
      "metadata": {
        "id": "MxlTeAUV_-dw"
      }
    },
    {
      "cell_type": "code",
      "execution_count": 7,
      "metadata": {
        "colab": {
          "base_uri": "https://localhost:8080/"
        },
        "id": "qBBEb_M-FbhD",
        "outputId": "7176aa9a-2328-4b79-8532-efce478f3a0d"
      },
      "outputs": [
        {
          "output_type": "execute_result",
          "data": {
            "text/plain": [
              "94930481034.17047"
            ]
          },
          "metadata": {},
          "execution_count": 7
        }
      ],
      "source": [
        " mean_squared_error(X.dot(reg.coef_),y)"
      ]
    },
    {
      "cell_type": "markdown",
      "metadata": {
        "id": "du_jgPWD4jZ1"
      },
      "source": [
        "# Streamlit"
      ]
    },
    {
      "cell_type": "markdown",
      "source": [
        "Prepare the data for import into the model using pickling"
      ],
      "metadata": {
        "id": "NsJGjySAAMYY"
      }
    },
    {
      "cell_type": "code",
      "execution_count": 8,
      "metadata": {
        "id": "wlAuT_n10Uu_"
      },
      "outputs": [],
      "source": [
        "pickle.dump(df, open('data','wb'))\n",
        "pickle.dump(mid_df,open('raw','wb'))\n",
        "pickle.dump(reg, open('regression','wb'))"
      ]
    },
    {
      "cell_type": "code",
      "execution_count": 9,
      "metadata": {
        "colab": {
          "base_uri": "https://localhost:8080/"
        },
        "id": "nBipJ0lF4tTj",
        "outputId": "2c83f692-2b64-4ee4-bb06-749aa06d99f3"
      },
      "outputs": [
        {
          "output_type": "stream",
          "name": "stdout",
          "text": [
            "Writing app.py\n"
          ]
        }
      ],
      "source": [
        "%%writefile app.py\n",
        "# Cheatsheet available at https://docs.streamlit.io/library/cheatsheet\n",
        "\n",
        "# Import the relevant folters\n",
        "import streamlit as st\n",
        "import pickle as pk\n",
        "import plotly.express as px\n",
        "import numpy as np\n",
        "import pandas as pd\n",
        "\n",
        "# Load the data in the streamlit model\n",
        "reg = pk.load(open('regression','rb'))\n",
        "mid_df = pk.load(open('raw','rb'))\n",
        "df = pk.load(open('data','rb'))\n",
        "\n",
        "# Initialize array position offsets for easy accesss\n",
        "MSSubClass_offset = 8\n",
        "Neighbrhood_offset = 23\n",
        "Kithcen_offset = 48\n",
        "BldgType_offset = 52\n",
        "CentralAir_offset = 57\n",
        "\n",
        "# Sidebar for inputs\n",
        "with st.sidebar:\n",
        "  st.sidebar.header('Input Your Preferences!')\n",
        "  st.write('Hello, Time to input your home price values :sunglasses:')\n",
        "\n",
        "  YearBuilt = st.number_input(\"What year was the home built?\", min_value=0, value=2000, step=1)\n",
        "\n",
        "  YrSold = st.number_input('What year will the sale take place?', min_value=0, value=2008, step=1)\n",
        "\n",
        "  LotArea = st.number_input(\"What is the lot size in square feet?\", min_value=0, value=0, step=100)\n",
        "  GrLivArea = st.number_input(\"What is the floor size above ground in square feet?\", min_value=0, value=0, step=100)\n",
        "\n",
        "  #Instead of saving each one-hot encoded variable separately, save the index offset of the chosen variable. Thus the chosen variable will have a value of 1, and all else will be 0\n",
        "  MSSubClassOpts = [\"STORY 1946 & NEWER ALL STYLES\",\"1-STORY 1945 & OLDER\",\"1-STORY W/FINISHED ATTIC ALL AGES\",\"1-1/2 STORY - UNFINISHED ALL AGES\",\"1-1/2 STORY FINISHED ALL AGES\",\"2-STORY 1946 & NEWER\",\"2-STORY 1945 & OLDER\",\"2-1/2 STORY ALL AGES\",\"SPLIT OR MULTI-LEVEL\",\"SPLIT FOYER\",\"DUPLEX - ALL STYLES AND AGES\",\"1-STORY PUD (Planned Unit Development) - 1946 & NEWER\",\"1-1/2 STORY PUD - ALL AGES\",\"2-STORY PUD - 1946 & NEWER\",\"PUD - MULTILEVEL - INCL SPLIT LEV/FOYER\",\"2 FAMILY CONVERSION - ALL STYLES AND AGES\"]\n",
        "  MSSubClassTemp = st.selectbox('What is the building class?', MSSubClassOpts)\n",
        "  MSSubClassIndex = MSSubClassOpts.index(MSSubClassTemp)\n",
        "\n",
        "  BldgTypeOpts = list(np.sort(mid_df.loc[:,'BldgType'].replace('1Fam', 'Single-family Detached').replace('2fmCon','Two-family Conversion').replace('Duplx','Duplex').replace('TwnhsE', 'Townhouse End Unit').replace('TwnhsI','Townhouse Inside Unit').unique()))\n",
        "  BldgTypeTemp = st.selectbox('What is the building type?', BldgTypeOpts)\n",
        "  BldgTypeIndex = BldgTypeOpts.index(BldgTypeTemp)\n",
        "\n",
        "  NeighborhoodOpts = list(np.sort(mid_df.loc[:,'Neighborhood'].replace('Blmngtn', 'Bloomington Heights').replace('Blueste', 'Bluestem').replace('BrDale', 'Briardale').replace('BrkSide', 'Brookside').replace('ClearCr', 'Clear Creek').replace('CollgCr', 'College Creek').replace('Crawfor', 'Crawford').replace('IDOTRR', 'Iowa DOT and Rail Road').replace('MeadowV', 'Meadow Village').replace('Mitchel', 'Mitchell').replace('NAmes', 'North Ames').replace('NoRidge', 'North Ridge').replace('NPkVill', 'Northpark Villa').replace('NridgHt', 'Northridge Heights').replace('NWAmes', 'Northwest Ames').replace('OldTown', 'Old Town').replace('SWISU', 'South & West of Iowa State University').replace('SawyerW', 'Sawyer West').replace('Somerst', 'Somerset').replace('StoneBr', 'Stone Brook').replace('Timber', 'Timberland').unique()))\n",
        "  NeighborhoodTemp = st.selectbox('What is the neighbourhood?', NeighborhoodOpts)\n",
        "  NeighborhoodIndex = NeighborhoodOpts.index(NeighborhoodTemp)\n",
        "\n",
        "  FullBath = st.number_input('How many full bathrooms are there?', min_value=0, value=0)\n",
        "  HalfBath = st.number_input('How many half bathrooms are there?', min_value=0, value=0)\n",
        "  BedroomAbvGr  = st.number_input('How many bedroom above ground level are there?', min_value=0, value=0)\n",
        "  GarageCars  =  st.number_input('How many standard cars can fit into the garage?', min_value=0, value=0)\n",
        "\n",
        "  KitchenQualOpts = list(np.sort(mid_df.loc[:,'KitchenQual'].replace('Ex','Excellent').replace('Gd', 'Good').replace('TA', 'Typical/Average').replace('Fa','Fair').replace('Po','Poor').unique()))\n",
        "  KitchenQualTemp = st.radio('What is the quality of the kitchen?', KitchenQualOpts)\n",
        "  KitchenQualIndex = KitchenQualOpts.index(KitchenQualTemp)\n",
        "\n",
        "  CentralAirOpts = list((mid_df.loc[:,'CentralAir'].replace('N', 'No').replace('Y', 'Yes').unique()))\n",
        "  CentralAirTemp = st.radio('Is there central air conditioning?', CentralAirOpts)\n",
        "  CentralAirIndex = CentralAirOpts.index(CentralAirTemp)\n",
        "\n",
        "  #This variable is a vector representing the variables that will be multiplied together to get the final value\n",
        "  input = [YrSold, LotArea,YearBuilt ,FullBath, HalfBath, BedroomAbvGr, GarageCars, GrLivArea] + [0]*51\n",
        "  input[MSSubClassIndex + MSSubClass_offset] = 1\n",
        "  input[NeighborhoodIndex + Neighbrhood_offset] = 1\n",
        "  input[KitchenQualIndex + Kithcen_offset] = 1\n",
        "  input[BldgTypeIndex + BldgType_offset] = 1\n",
        "  input[CentralAirIndex + CentralAir_offset] = 1\n",
        "\n",
        "pred = '{:,.0f}'.format(reg.coef_.dot(input)).replace(',',' ')\n",
        "\n",
        "st.title('Real Estate Value Predictor')\n",
        "\n",
        "\n",
        "st.markdown('### Your predicted price is: $' + pred)\n",
        "st.write('To change the price, adjust the parameters on the left-hand sidebar.')\n",
        "\n",
        "newdf = df.drop(labels=range(df.shape[0]),axis='index').drop(labels='SalePrice',axis='columns')\n",
        "\n",
        "contributions = [float(reg.coef_[x]) * float(input[x]) for x in range(len(input))]\n",
        "\n",
        "newdf.loc['0']= contributions\n",
        "\n",
        "parameter_labels = ['Year Sold', 'Lot Area', 'Year Built', 'Full Baths', 'Half Baths',\n",
        "          'Bedrooms Abvove Ground', 'Cars in Garage', 'Above Groudn Living Area',\n",
        "          \"1-STORY 1946 & NEWER ALL STYLES\",\"1-STORY 1945 & OLDER\",\"1-STORY W/FINISHED ATTIC ALL AGES\",\n",
        "          \"1-1/2 STORY - UNFINISHED ALL AGES\",\"1-1/2 STORY FINISHED ALL AGES\",\"2-STORY 1946 & NEWER\",\n",
        "          \"2-STORY 1945 & OLDER\",\"2-1/2 STORY ALL AGES\",\"SPLIT OR MULTI-LEVEL\",\n",
        "          \"SPLIT FOYER\",\"DUPLEX - ALL STYLES AND AGES\",\"1-STORY PUD (Planned Unit Development) - 1946 & NEWER\",\n",
        "          \"2-STORY PUD - 1946 & NEWER\",\"PUD - MULTILEVEL - INCL SPLIT LEV/FOYER\",\n",
        "          \"2 FAMILY CONVERSION - ALL STYLES AND AGES\",\n",
        "          \"Bloomington Heights\",\"Bluestem\",\"Briardale\",\"Brookside\",\n",
        "          \"Clear Creek\",\"College Creek\",\"Crawford\",\"Edwards\",\"Gilbert\",\n",
        "          \"Iowa DOT and Rail Road\",\"Meadow Village\",\"Mitchell\",\n",
        "          \"North Ames\",\"Northridge\",\"Northpark Villa\",\"Northridge Heights\",\n",
        "          \"Northwest Ames\",\"Old Town\",\"South & West of Iowa State University\",\n",
        "          \"Sawyer\",\"Sawyer West\",\"Somerset\",\"Stone Brook\",\"Timberland\",\"Veenker\",\n",
        "          'Excellent Kitchen', 'Fair Kitchen', 'Good Kitchen', 'Typical Kitchen',\n",
        "          'Single-family Detached', 'Two-family Conversion', 'Duplex', 'Townhouse End Unit',\n",
        "          'Townhouse Inside Unit', 'Central Air', 'No Central Air']\n",
        "\n",
        "d = {'Parameter': parameter_labels, 'Contribution to the Predicted Price': contributions , 'New House': ['new'] * 59}\n",
        "mini_df = pd.DataFrame(data=d)\n",
        "\n",
        "#Create the graph representing the contributions to the price\n",
        "c = px.bar(mini_df, x=\"New House\", y=\"Contribution to the Predicted Price\",\n",
        "             color='Parameter', barmode='relative',\n",
        "             height=500, template='ggplot2', title='Contributions to the Price',\n",
        "            hover_data={'New House':False, # remove species from hover data\n",
        "                             'Parameter': True,\n",
        "                             'Contribution to the Predicted Price' : True\n",
        "                            }\n",
        "             )\n",
        "c.update_xaxes(showticklabels=False, visible = False)\n",
        "\n",
        "st.plotly_chart(c)\n",
        "\n",
        "\n",
        "#Create the sensitivity scatterplots\n",
        "p = st.selectbox(\"Select the parameter chart you'd like to see a sensitivity scatterplot for: \", parameter_labels)\n",
        "l = parameter_labels.index(p)\n",
        "dis = {'Sale Price': df['SalePrice'], p: df.values[:,l+1]}\n",
        "fig = px.scatter(dis, x=p, y='Sale Price', trendline=\"ols\")\n",
        "st.plotly_chart(fig)\n",
        "\n",
        "\n",
        "\n",
        "\n",
        "\n"
      ]
    },
    {
      "cell_type": "code",
      "execution_count": 10,
      "metadata": {
        "id": "wJHzEFaM5Eoc"
      },
      "outputs": [],
      "source": [
        "!streamlit run /content/app.py &>/content/logs.txt &"
      ]
    },
    {
      "cell_type": "code",
      "execution_count": 11,
      "metadata": {
        "colab": {
          "base_uri": "https://localhost:8080/"
        },
        "id": "eCDEsIbT5Ilj",
        "outputId": "b5222cc6-f3eb-41ae-a699-6d180dd6817e"
      },
      "outputs": [
        {
          "output_type": "stream",
          "name": "stdout",
          "text": [
            "35.239.206.7\n",
            "\u001b[K\u001b[?25hnpx: installed 22 in 3.42s\n",
            "your url is: https://spotty-years-eat.loca.lt\n",
            "^C\n"
          ]
        }
      ],
      "source": [
        "!curl ipv4.icanhazip.com\n",
        "!npx localtunnel --port 8501"
      ]
    }
  ],
  "metadata": {
    "colab": {
      "provenance": []
    },
    "kernelspec": {
      "display_name": "Python 3",
      "name": "python3"
    },
    "language_info": {
      "name": "python"
    }
  },
  "nbformat": 4,
  "nbformat_minor": 0
}